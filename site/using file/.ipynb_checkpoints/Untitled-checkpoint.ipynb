{
 "cells": [
  {
   "cell_type": "markdown",
   "id": "0b47ec98-7588-4db1-b5e9-c86cde784f23",
   "metadata": {},
   "source": [
    "# Model app "
   ]
  },
  {
   "cell_type": "markdown",
   "id": "a4384eb4-d181-4c1c-98ce-7d9ee224488c",
   "metadata": {},
   "source": [
    "# How to use \n",
    "\n",
    "just have the libraries and then run the down cell \n",
    "\n",
    "enjoy it \n",
    "\n",
    "\n",
    "if you dont have the libraries run the cells in the end of code first"
   ]
  },
  {
   "cell_type": "code",
   "execution_count": 1,
   "id": "255066a6-8a3e-4ae8-a19f-e8791b0a4928",
   "metadata": {},
   "outputs": [
    {
     "name": "stdout",
     "output_type": "stream",
     "text": [
      "WARNING:tensorflow:From C:\\Users\\acking\\AppData\\Local\\Programs\\Python\\Python311\\Lib\\site-packages\\keras\\src\\losses.py:2976: The name tf.losses.sparse_softmax_cross_entropy is deprecated. Please use tf.compat.v1.losses.sparse_softmax_cross_entropy instead.\n",
      "\n",
      "WARNING:tensorflow:From C:\\Users\\acking\\AppData\\Local\\Programs\\Python\\Python311\\Lib\\site-packages\\keras\\src\\backend.py:1398: The name tf.executing_eagerly_outside_functions is deprecated. Please use tf.compat.v1.executing_eagerly_outside_functions instead.\n",
      "\n"
     ]
    },
    {
     "name": "stderr",
     "output_type": "stream",
     "text": [
      "C:\\Users\\acking\\AppData\\Local\\Programs\\Python\\Python311\\Lib\\site-packages\\sklearn\\utils\\validation.py:2749: UserWarning: X does not have valid feature names, but StandardScaler was fitted with feature names\n",
      "  warnings.warn(\n"
     ]
    },
    {
     "name": "stdout",
     "output_type": "stream",
     "text": [
      "1/1 [==============================] - 1s 714ms/step\n",
      "1/1 [==============================] - 0s 46ms/step\n"
     ]
    },
    {
     "name": "stderr",
     "output_type": "stream",
     "text": [
      "C:\\Users\\acking\\AppData\\Local\\Programs\\Python\\Python311\\Lib\\site-packages\\sklearn\\utils\\validation.py:2749: UserWarning: X does not have valid feature names, but StandardScaler was fitted with feature names\n",
      "  warnings.warn(\n",
      "C:\\Users\\acking\\AppData\\Local\\Programs\\Python\\Python311\\Lib\\site-packages\\sklearn\\utils\\validation.py:2749: UserWarning: X does not have valid feature names, but StandardScaler was fitted with feature names\n",
      "  warnings.warn(\n"
     ]
    },
    {
     "name": "stdout",
     "output_type": "stream",
     "text": [
      "1/1 [==============================] - 0s 53ms/step\n",
      "1/1 [==============================] - 0s 43ms/step\n"
     ]
    },
    {
     "name": "stderr",
     "output_type": "stream",
     "text": [
      "C:\\Users\\acking\\AppData\\Local\\Programs\\Python\\Python311\\Lib\\site-packages\\sklearn\\utils\\validation.py:2749: UserWarning: X does not have valid feature names, but StandardScaler was fitted with feature names\n",
      "  warnings.warn(\n",
      "C:\\Users\\acking\\AppData\\Local\\Programs\\Python\\Python311\\Lib\\site-packages\\sklearn\\utils\\validation.py:2749: UserWarning: X does not have valid feature names, but StandardScaler was fitted with feature names\n",
      "  warnings.warn(\n"
     ]
    },
    {
     "name": "stdout",
     "output_type": "stream",
     "text": [
      "1/1 [==============================] - 0s 45ms/step\n",
      "1/1 [==============================] - 0s 52ms/step\n"
     ]
    },
    {
     "name": "stderr",
     "output_type": "stream",
     "text": [
      "C:\\Users\\acking\\AppData\\Local\\Programs\\Python\\Python311\\Lib\\site-packages\\sklearn\\utils\\validation.py:2749: UserWarning: X does not have valid feature names, but StandardScaler was fitted with feature names\n",
      "  warnings.warn(\n",
      "C:\\Users\\acking\\AppData\\Local\\Programs\\Python\\Python311\\Lib\\site-packages\\sklearn\\utils\\validation.py:2749: UserWarning: X does not have valid feature names, but StandardScaler was fitted with feature names\n",
      "  warnings.warn(\n"
     ]
    },
    {
     "name": "stdout",
     "output_type": "stream",
     "text": [
      "1/1 [==============================] - 0s 51ms/step\n"
     ]
    }
   ],
   "source": [
    "import tkinter\n",
    "import customtkinter\n",
    "from PIL import Image\n",
    "from datetime import datetime\n",
    "import tensorflow as tf\n",
    "import joblib\n",
    "import numpy as np\n",
    "import os\n",
    "import sys\n",
    "\n",
    "# --- Set Appearance ---\n",
    "customtkinter.set_appearance_mode(\"System\")\n",
    "customtkinter.set_default_color_theme(\"blue\")\n",
    "\n",
    "# --- Resource Path Helper Function ---\n",
    "def resource_path(relative_path):\n",
    "    \"\"\" Get absolute path to resource, works for dev and for PyInstaller \"\"\"\n",
    "    try:\n",
    "        base_path = sys._MEIPASS\n",
    "    except Exception:\n",
    "        base_path = os.path.abspath(\".\")\n",
    "    return os.path.join(base_path, relative_path)\n",
    "\n",
    "# --- Main Application Class ---\n",
    "class App(customtkinter.CTk):\n",
    "    def __init__(self, model, scaler):\n",
    "        super().__init__()\n",
    "\n",
    "        self.model = model\n",
    "        self.scaler = scaler\n",
    "        self.history_list = []\n",
    "\n",
    "        # --- Configure Window ---\n",
    "        self.title(\"Concrete Strength Predictor\")\n",
    "        self.geometry(\"800x620\") # Widened for the history panel\n",
    "        self.resizable(False, False)\n",
    "        try:\n",
    "            icon_path = resource_path(\"icon.png\")\n",
    "            self.iconphoto(True, tkinter.PhotoImage(file=icon_path))\n",
    "        except Exception as e:\n",
    "            print(f\"Could not load window icon: {e}\")\n",
    "\n",
    "        # --- Configure Grid Layout ---\n",
    "        self.grid_columnconfigure(0, weight=1)\n",
    "        self.grid_columnconfigure(1, weight=0) # Right column for history\n",
    "        self.grid_rowconfigure(0, weight=1)\n",
    "\n",
    "        # --- Create Panels ---\n",
    "        self._create_input_panel()\n",
    "        self._create_history_panel()\n",
    "\n",
    "    def _create_input_panel(self):\n",
    "        \"\"\"Creates the main input panel on the left.\"\"\"\n",
    "        input_frame = customtkinter.CTkFrame(self, corner_radius=15)\n",
    "        input_frame.grid(row=0, column=0, padx=20, pady=20, sticky=\"nsew\")\n",
    "\n",
    "        # --- Title and Icon ---\n",
    "        title_frame = customtkinter.CTkFrame(input_frame, fg_color=\"transparent\")\n",
    "        title_frame.pack(pady=(10, 15), padx=10, fill=\"x\")\n",
    "        try:\n",
    "            icon_image = customtkinter.CTkImage(light_image=Image.open(resource_path(\"icon.png\")),\n",
    "                                                dark_image=Image.open(resource_path(\"icon.png\")),\n",
    "                                                size=(30, 30))\n",
    "            icon_label = customtkinter.CTkLabel(title_frame, image=icon_image, text=\"\")\n",
    "            icon_label.pack(side=\"left\", padx=(10, 5))\n",
    "        except Exception as e:\n",
    "            print(f\"Could not load icon image for title: {e}\")\n",
    "        title_label = customtkinter.CTkLabel(title_frame, text=\"Concrete Strength Predictor\", font=customtkinter.CTkFont(size=20, weight=\"bold\"))\n",
    "        title_label.pack(side=\"left\", padx=10)\n",
    "\n",
    "        # --- Input Fields ---\n",
    "        self.feature_entries = {}\n",
    "        features = [\n",
    "            \"Cement (kg/m³)\", \"Slag (kg/m³)\", \"Fly Ash (kg/m³)\", \"Water (kg/m³)\",\n",
    "            \"Superplasticizer (kg/m³)\", \"Coarse Aggregate (kg/m³)\", \"Fine Aggregate (kg/m³)\", \"Age (days)\"\n",
    "        ]\n",
    "        for feature in features:\n",
    "            frame = customtkinter.CTkFrame(input_frame)\n",
    "            frame.pack(pady=6, padx=15, fill=\"x\")\n",
    "            label = customtkinter.CTkLabel(frame, text=feature, width=150, anchor=\"w\")\n",
    "            label.pack(side=\"left\", padx=(15, 10))\n",
    "            entry = customtkinter.CTkEntry(frame, placeholder_text=\"0.0\")\n",
    "            entry.pack(side=\"right\", expand=True, fill=\"x\", padx=(0, 15))\n",
    "            self.feature_entries[feature] = entry\n",
    "            frame.bind(\"<Enter>\", lambda event, f=frame: f.configure(fg_color=customtkinter.ThemeManager.theme[\"CTkFrame\"][\"top_fg_color\"]))\n",
    "            frame.bind(\"<Leave>\", lambda event, f=frame: f.configure(fg_color=\"transparent\"))\n",
    "        list(self.feature_entries.values())[0].focus()\n",
    "\n",
    "        # --- Buttons Frame ---\n",
    "        button_frame = customtkinter.CTkFrame(input_frame, fg_color=\"transparent\")\n",
    "        button_frame.pack(pady=20, padx=10, fill=\"x\")\n",
    "        self.predict_button = customtkinter.CTkButton(button_frame, text=\"Predict Strength\", command=self.predict_strength, corner_radius=8, height=40, font=customtkinter.CTkFont(weight=\"bold\"))\n",
    "        self.predict_button.pack(side=\"left\", expand=True, padx=(10, 5))\n",
    "        clear_button = customtkinter.CTkButton(button_frame, text=\"Clear\", command=self._clear_entries, corner_radius=8, height=40, fg_color=\"#585858\", hover_color=\"#686868\")\n",
    "        clear_button.pack(side=\"right\", expand=True, padx=(5, 10))\n",
    "\n",
    "        # --- Result & Error Labels ---\n",
    "        self.result_label = customtkinter.CTkLabel(input_frame, text=\"Predicted Strength: -- MPa\", font=customtkinter.CTkFont(size=18, weight=\"bold\"))\n",
    "        self.result_label.pack(pady=(10, 5), padx=10)\n",
    "        self.error_label = customtkinter.CTkLabel(input_frame, text=\"\", text_color=\"#E55451\")\n",
    "        self.error_label.pack(pady=(0, 10), padx=10)\n",
    "\n",
    "    def _create_history_panel(self):\n",
    "        \"\"\"Creates the prediction history panel on the right.\"\"\"\n",
    "        history_frame = customtkinter.CTkFrame(self, corner_radius=15)\n",
    "        history_frame.grid(row=0, column=1, padx=(0, 20), pady=20, sticky=\"nsew\")\n",
    "        history_frame.grid_rowconfigure(1, weight=1)\n",
    "        history_frame.grid_columnconfigure(0, weight=1)\n",
    "\n",
    "        # --- History Title and Clear Button ---\n",
    "        history_title_frame = customtkinter.CTkFrame(history_frame, fg_color=\"transparent\")\n",
    "        history_title_frame.grid(row=0, column=0, columnspan=2, padx=10, pady=10, sticky=\"ew\")\n",
    "        history_title_label = customtkinter.CTkLabel(history_title_frame, text=\"Prediction History\", font=customtkinter.CTkFont(size=16, weight=\"bold\"))\n",
    "        history_title_label.pack(side=\"left\", padx=5)\n",
    "        clear_history_button = customtkinter.CTkButton(history_title_frame, text=\"Clear\", width=60, command=self._clear_history)\n",
    "        clear_history_button.pack(side=\"right\")\n",
    "\n",
    "        # --- Scrollable Frame for History Entries ---\n",
    "        self.history_scroll_frame = customtkinter.CTkScrollableFrame(history_frame, label_text=\"\")\n",
    "        self.history_scroll_frame.grid(row=1, column=0, columnspan=2, padx=10, pady=(0, 10), sticky=\"nsew\")\n",
    "\n",
    "    def predict_strength(self):\n",
    "        \"\"\"Validates inputs, runs prediction, displays result, and saves to history.\"\"\"\n",
    "        self.error_label.configure(text=\"\")\n",
    "        for entry in self.feature_entries.values():\n",
    "            entry.configure(border_color=customtkinter.ThemeManager.theme[\"CTkEntry\"][\"border_color\"])\n",
    "\n",
    "        self.predict_button.configure(state=\"disabled\", text=\"Predicting...\")\n",
    "        self.update_idletasks()\n",
    "\n",
    "        try:\n",
    "            input_data = []\n",
    "            has_error = False\n",
    "            for feature, entry in self.feature_entries.items():\n",
    "                value_str = entry.get()\n",
    "                if not value_str:\n",
    "                    entry.configure(border_color=\"red\")\n",
    "                    has_error = True\n",
    "                    continue\n",
    "                try:\n",
    "                    input_data.append(float(value_str))\n",
    "                except ValueError:\n",
    "                    entry.configure(border_color=\"red\")\n",
    "                    has_error = True\n",
    "            if has_error:\n",
    "                raise ValueError(\"Invalid input. Please enter numbers only.\")\n",
    "\n",
    "            new_sample = np.array([input_data])\n",
    "            new_sample_scaled = self.scaler.transform(new_sample)\n",
    "            prediction = self.model.predict(new_sample_scaled, verbose=0)\n",
    "            result_value = prediction[0][0]\n",
    "\n",
    "            color = self._get_color_for_value(result_value)\n",
    "            self.result_label.configure(text=f\"Predicted Strength: {result_value:.2f} MPa\", text_color=color)\n",
    "\n",
    "            # --- Save to history ---\n",
    "            history_entry = {\n",
    "                \"prediction\": result_value,\n",
    "                \"timestamp\": datetime.now(),\n",
    "                \"color\": color\n",
    "            }\n",
    "            self.history_list.insert(0, history_entry)\n",
    "            self._add_history_entry_to_ui(history_entry)\n",
    "\n",
    "        except ValueError as e:\n",
    "            self.error_label.configure(text=str(e))\n",
    "            self.result_label.configure(text=\"Predicted Strength: -- MPa\", text_color=customtkinter.ThemeManager.theme[\"CTkLabel\"][\"text_color\"])\n",
    "        except Exception as e:\n",
    "            self.error_label.configure(text=f\"An unexpected error occurred.\")\n",
    "            print(f\"Prediction error: {e}\")\n",
    "        finally:\n",
    "            self.predict_button.configure(state=\"normal\", text=\"Predict Strength\")\n",
    "\n",
    "    def _add_history_entry_to_ui(self, entry_data):\n",
    "        \"\"\"Adds a single formatted entry to the top of the history UI.\"\"\"\n",
    "        entry_frame = customtkinter.CTkFrame(self.history_scroll_frame, fg_color=customtkinter.ThemeManager.theme[\"CTkFrame\"][\"top_fg_color\"])\n",
    "        entry_frame.pack(side=\"top\", fill=\"x\", padx=5, pady=5)\n",
    "        \n",
    "        result_text = f\"{entry_data['prediction']:.2f} MPa\"\n",
    "        time_text = entry_data['timestamp'].strftime(\"%I:%M:%S %p\")\n",
    "        \n",
    "        result_label = customtkinter.CTkLabel(entry_frame, text=result_text, text_color=entry_data['color'], font=customtkinter.CTkFont(weight=\"bold\"))\n",
    "        result_label.pack(side=\"left\", padx=10, pady=5)\n",
    "        time_label = customtkinter.CTkLabel(entry_frame, text=time_text, text_color=\"gray60\")\n",
    "        time_label.pack(side=\"right\", padx=10, pady=5)\n",
    "\n",
    "    def _clear_entries(self):\n",
    "        \"\"\"Clears all input fields and resets result/error labels.\"\"\"\n",
    "        for entry in self.feature_entries.values():\n",
    "            entry.delete(0, 'end')\n",
    "            entry.configure(border_color=customtkinter.ThemeManager.theme[\"CTkEntry\"][\"border_color\"])\n",
    "        self.result_label.configure(text=\"Predicted Strength: -- MPa\", text_color=customtkinter.ThemeManager.theme[\"CTkLabel\"][\"text_color\"])\n",
    "        self.error_label.configure(text=\"\")\n",
    "        list(self.feature_entries.values())[0].focus()\n",
    "\n",
    "    def _clear_history(self):\n",
    "        \"\"\"Clears the history data and removes all entries from the UI.\"\"\"\n",
    "        self.history_list.clear()\n",
    "        for widget in self.history_scroll_frame.winfo_children():\n",
    "            widget.destroy()\n",
    "\n",
    "    def _get_color_for_value(self, value):\n",
    "        \"\"\"Returns a color string based on the prediction value.\"\"\"\n",
    "        if value < 20: return \"#E55451\" # Red\n",
    "        elif 20 <= value < 40: return \"#FFA500\" # Orange\n",
    "        else: return \"#50C878\" # Green\n",
    "\n",
    "# --- Main execution block ---\n",
    "if __name__ == \"__main__\":\n",
    "    try:\n",
    "        model_path = resource_path('concrete_strength_model.h5')\n",
    "        scaler_path = resource_path('scaler.gz')\n",
    "        \n",
    "        if not os.path.exists(model_path) or not os.path.exists(scaler_path):\n",
    "            root = tkinter.Tk()\n",
    "            root.withdraw()\n",
    "            tkinter.messagebox.showerror(\"File Not Found\", \"Could not find model or scaler files.\")\n",
    "        else:\n",
    "            loaded_model = tf.keras.models.load_model(model_path)\n",
    "            loaded_scaler = joblib.load(scaler_path)\n",
    "            app = App(model=loaded_model, scaler=loaded_scaler)\n",
    "            app.mainloop()\n",
    "\n",
    "    except Exception as e:\n",
    "        print(f\"Failed to load resources or start the app: {e}\")\n",
    "        root = tkinter.Tk()\n",
    "        root.withdraw()\n",
    "        tkinter.messagebox.showerror(\"Application Error\", f\"A critical error occurred on startup:\\n\\n{e}\")"
   ]
  },
  {
   "cell_type": "markdown",
   "id": "5ec7dcaf-5882-4ec5-bee6-afcd7e04b3c4",
   "metadata": {},
   "source": [
    "# install all the libraries at once \n",
    "\n",
    "preferd one \n"
   ]
  },
  {
   "cell_type": "code",
   "execution_count": null,
   "id": "9ce2f717-3c74-4bdf-a22d-5ba4cb86b1d4",
   "metadata": {},
   "outputs": [],
   "source": [
    "pip install customtkinter tensorflow joblib numpy"
   ]
  },
  {
   "cell_type": "markdown",
   "id": "2e4b7d96-73bc-4de3-b62d-1628c9dba67d",
   "metadata": {},
   "source": [
    "# install libraries one by one by running the down cells \n",
    "\n",
    "dont forget to connect to internet"
   ]
  },
  {
   "cell_type": "code",
   "execution_count": null,
   "id": "2a6983ce-5ae1-4ad2-9260-c6b591697398",
   "metadata": {},
   "outputs": [],
   "source": [
    "pip install tkinter"
   ]
  },
  {
   "cell_type": "code",
   "execution_count": null,
   "id": "023d569e-2f36-4513-8c5c-a1a687b4aafb",
   "metadata": {},
   "outputs": [],
   "source": [
    "pip install customtkinter"
   ]
  },
  {
   "cell_type": "code",
   "execution_count": null,
   "id": "620346e8-e844-4a12-ab76-f4a21f712f7a",
   "metadata": {},
   "outputs": [],
   "source": [
    "pip install tensorflow"
   ]
  },
  {
   "cell_type": "code",
   "execution_count": null,
   "id": "0fe22cfe-6fca-41a3-af50-c8ed62b7c948",
   "metadata": {},
   "outputs": [],
   "source": [
    "pip install joblib"
   ]
  },
  {
   "cell_type": "code",
   "execution_count": null,
   "id": "77bb168a-ecd8-4909-b80b-747365843544",
   "metadata": {},
   "outputs": [],
   "source": [
    "pip install numpy"
   ]
  },
  {
   "cell_type": "code",
   "execution_count": null,
   "id": "90d0aa72-f2ea-4f77-a166-a5d72897b76e",
   "metadata": {},
   "outputs": [],
   "source": [
    "pip install os"
   ]
  },
  {
   "cell_type": "code",
   "execution_count": null,
   "id": "5eb43add-775b-4f72-8c67-7f6a7f1f057e",
   "metadata": {},
   "outputs": [],
   "source": [
    "pip install sys"
   ]
  },
  {
   "cell_type": "code",
   "execution_count": 6,
   "id": "3e7dec23-609b-46c8-8687-05f739d7f0be",
   "metadata": {},
   "outputs": [
    {
     "name": "stdout",
     "output_type": "stream",
     "text": [
      "Could not load window icon: couldn't open \"C:\\Users\\acking\\Desktop\\project\\Project-DeepCrete\\site\\app\\icon.png\": no such file or directory\n",
      "Could not load icon image for title: [Errno 2] No such file or directory: 'C:\\\\Users\\\\acking\\\\Desktop\\\\project\\\\Project-DeepCrete\\\\site\\\\app\\\\icon.png'\n"
     ]
    }
   ],
   "source": []
  }
 ],
 "metadata": {
  "kernelspec": {
   "display_name": "Python 3 (ipykernel)",
   "language": "python",
   "name": "python3"
  },
  "language_info": {
   "codemirror_mode": {
    "name": "ipython",
    "version": 3
   },
   "file_extension": ".py",
   "mimetype": "text/x-python",
   "name": "python",
   "nbconvert_exporter": "python",
   "pygments_lexer": "ipython3",
   "version": "3.11.4"
  }
 },
 "nbformat": 4,
 "nbformat_minor": 5
}
